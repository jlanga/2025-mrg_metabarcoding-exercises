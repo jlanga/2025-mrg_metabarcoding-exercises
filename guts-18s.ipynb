{
 "cells": [
  {
   "cell_type": "markdown",
   "id": "36d773bc-63cf-439e-b38a-927b8d701177",
   "metadata": {
    "tags": []
   },
   "source": [
    "# Guts notebook"
   ]
  },
  {
   "cell_type": "markdown",
   "id": "3f408b0d-db7a-4300-8500-fd7581b2c487",
   "metadata": {},
   "source": [
    "![guts](assets/img/guts.png)"
   ]
  },
  {
   "cell_type": "markdown",
   "id": "7b234e31-16e0-46c3-89a7-6248127575c4",
   "metadata": {},
   "source": [
    "This datasets contains stomach contents from sardines and sprats in the Bay of Biscay.\n",
    "\n",
    "- In total there are 144 samples (too many).\n",
    "\n",
    "- There are 5 groups of samples:\n",
    "  - break: sardines from the shelf break (A)\n",
    "  - outer: sardines from hte outer shelf (B)\n",
    "  - day: sardines from the inner shelf taken by the day\n",
    "  - night: sardines from the inner shelf taken at night\n",
    "  - sprat: sprats from the inner shelf\n",
    "\n",
    "- But we don't want to study bacteria but the zooplankton they eat. Therefore we don't use the 16S marker but the 18S.\n",
    "\n"
   ]
  },
  {
   "cell_type": "markdown",
   "id": "70af491c-a588-4dbc-985a-50e1206eec80",
   "metadata": {
    "tags": []
   },
   "source": [
    "Your task is to study the differences in the diet between a pair of sample types."
   ]
  },
  {
   "cell_type": "markdown",
   "id": "3633812f-b05c-452a-a233-c5feaf70eaf9",
   "metadata": {},
   "source": [
    "This is who has to do what:"
   ]
  },
  {
   "cell_type": "markdown",
   "id": "5a15d8cd-a25f-4e16-982c-63e75ec5618d",
   "metadata": {},
   "source": [
    "| Student   | Pair of samples | sample_data      |\n",
    "|-----------|-----------------|------------------|\n",
    "| Peter     | Break vs Night  | guts-break-night |\n",
    "| Malsha    | Break vs Outer  | guts-break-outer |\n",
    "| Daniel    | Night vs Outer  | guts-night-outer |"
   ]
  },
  {
   "cell_type": "markdown",
   "id": "589f2e60-ba43-4633-aa83-81fad04b65b2",
   "metadata": {},
   "source": [
    "Feel free to have last week's notebooks open in another tab."
   ]
  },
  {
   "cell_type": "markdown",
   "id": "9015998e-a694-42e5-acd8-697a11da9251",
   "metadata": {},
   "source": [
    "The files you have to analyze are in the guts folder:"
   ]
  },
  {
   "cell_type": "code",
   "execution_count": null,
   "id": "867ae067-b7be-429f-adb2-c68eb636d7ca",
   "metadata": {
    "tags": []
   },
   "outputs": [],
   "source": [
    "ll -h guts"
   ]
  },
  {
   "cell_type": "markdown",
   "id": "20c3c447-7d16-46d1-ac80-c47cbfee5bea",
   "metadata": {},
   "source": [
    "It is a decaffeinated dataset from the one from the article (~ 0.5 to 1%) so you can analyze in a moment, rather than waiting a day or two to then realize that you did it wrong."
   ]
  },
  {
   "cell_type": "markdown",
   "id": "92633376-f96d-4821-90a0-e37d80c9e5e9",
   "metadata": {},
   "source": [
    "Instead of sequencing in a single go the 16S sequence, we sequence twice the fragment, once in the 5' to 3' direction (`forward.fastq.gz`), and again from 3' to 5' (`reverse.fastq.gz`). By sequencing twice we get more accurate measurements."
   ]
  },
  {
   "cell_type": "markdown",
   "id": "4ec1d231-02e9-4a60-a038-f4f0c5b5608c",
   "metadata": {},
   "source": [
    "## Warning"
   ]
  },
  {
   "cell_type": "markdown",
   "id": "6b0600b8-de14-4d01-9c09-c829955a783c",
   "metadata": {},
   "source": [
    "The only difference with the dataset from the previous session is that we are using Illumina **Paired**-End sequencing instead of **Single**-End."
   ]
  },
  {
   "cell_type": "markdown",
   "id": "e8575d6b-31e2-49e6-8c63-16417cdcd170",
   "metadata": {
    "tags": []
   },
   "source": [
    "Therefore, you will need to modify the commands specific to single-end to paired end, i.e.:\n",
    "- `qiime demux emp-single` now becomes `qiime demux emp-paired`\n",
    "- `qiime dada2 denoise-single` is now `qiime dada2 denoise-paired`"
   ]
  },
  {
   "cell_type": "markdown",
   "id": "be902ea0-53a0-4aae-ae3f-9b8c7ff6cb7b",
   "metadata": {},
   "source": [
    "Appart from that, almost every command is the same."
   ]
  },
  {
   "cell_type": "markdown",
   "id": "8e6e606b-131b-42c0-b9a6-1d5380e83d96",
   "metadata": {},
   "source": [
    "## Tips\n",
    "\n",
    "- Save often, and download the notebook to your laptop from time to time.\n",
    "\n",
    "- Remember to `pause` your notebook if you think you need to rest or to think.\n",
    "\n",
    "- Click on the Fast Forward button from time to time (between restart and download buttons in the top bar) to see that everything works from beginning to end"
   ]
  },
  {
   "cell_type": "markdown",
   "id": "80529fa8-b15a-4e07-8bc5-6cc6e95b1d06",
   "metadata": {
    "tags": []
   },
   "source": [
    "You are expected to type commands in code cells like the following one with a `[ ]` on the side"
   ]
  },
  {
   "cell_type": "code",
   "execution_count": null,
   "id": "d449a7b2-e172-4df7-abf7-9244bb04197b",
   "metadata": {},
   "outputs": [],
   "source": []
  },
  {
   "cell_type": "markdown",
   "id": "da274457-3cf6-4ce1-9e74-21e8e14578f5",
   "metadata": {},
   "source": [
    "and text in the cells without the `[ ]`:"
   ]
  },
  {
   "cell_type": "markdown",
   "id": "f76c94bf-55c7-4891-b2ba-812ae519fc6e",
   "metadata": {},
   "source": []
  },
  {
   "cell_type": "markdown",
   "id": "4af4a551-55be-4681-ab1c-70e965e06267",
   "metadata": {},
   "source": [
    "If you find two or more code cells together, is because you are being asked for more than one command. Put each command in different cells"
   ]
  },
  {
   "cell_type": "markdown",
   "id": "5807b96e-7d56-478b-9b0a-f4ffb2835272",
   "metadata": {},
   "source": [
    "# Exercises"
   ]
  },
  {
   "cell_type": "markdown",
   "id": "92a8ee03-4108-4aca-86fc-3e5ce9457de4",
   "metadata": {},
   "source": [
    "## 1. Samples"
   ]
  },
  {
   "cell_type": "markdown",
   "id": "95b33a97-e8dd-4b52-a121-8a7450fe12bb",
   "metadata": {
    "tags": []
   },
   "source": [
    "Let's see if you understand the contents of your `sample-data.tsv` file."
   ]
  },
  {
   "cell_type": "markdown",
   "id": "bdc653e9-551b-4966-aee4-af3aba4e1e5f",
   "metadata": {},
   "source": [
    "1.1 How many samples are in your `sample-data.tsv` file?"
   ]
  },
  {
   "cell_type": "markdown",
   "id": "1c7a3e5c-19b1-4b27-80b2-3b77ad1b9475",
   "metadata": {},
   "source": []
  },
  {
   "cell_type": "markdown",
   "id": "2dcad554-946b-4e02-8658-02c68863e2f4",
   "metadata": {},
   "source": [
    "1.2 How many are for type of fish?"
   ]
  },
  {
   "cell_type": "markdown",
   "id": "7e1be192-d71a-4b13-a12e-f2783bc8747e",
   "metadata": {},
   "source": []
  },
  {
   "cell_type": "markdown",
   "id": "d6c8520c-f10a-4aa6-b608-56822f4478ba",
   "metadata": {},
   "source": [
    "1.3 How many samples are from each region?"
   ]
  },
  {
   "cell_type": "markdown",
   "id": "e0f74c73-5dfa-4cd4-87c1-193a733d0df0",
   "metadata": {},
   "source": []
  },
  {
   "cell_type": "markdown",
   "id": "77bacbce-65a1-4501-b096-c3881c97ce59",
   "metadata": {},
   "source": [
    "1.4 What name has the column that holds the barcode of the sample?"
   ]
  },
  {
   "cell_type": "markdown",
   "id": "db3e0964-5041-40bd-9f47-5b1977b5fc7b",
   "metadata": {},
   "source": []
  },
  {
   "cell_type": "markdown",
   "id": "7a455149-4811-46d4-8934-e88299789369",
   "metadata": {
    "tags": []
   },
   "source": [
    "## 2. Pre-processing"
   ]
  },
  {
   "cell_type": "markdown",
   "id": "32fb88e0-1a3b-40dc-aaea-35c277e1223d",
   "metadata": {},
   "source": [
    "2.1 Import your dataset to QIIME. It is not of the type `EMPSingleEndSequences`."
   ]
  },
  {
   "cell_type": "code",
   "execution_count": null,
   "id": "d715f2b2-b01b-40cd-97b9-a3d19fbdd188",
   "metadata": {
    "tags": []
   },
   "outputs": [],
   "source": []
  },
  {
   "cell_type": "markdown",
   "id": "92a5a231-e84e-42ba-9066-ffd53388e113",
   "metadata": {},
   "source": [
    "2.2 Demultiplex your sequences with `demux`. Remember that we are doing Paired-End sequencing. Also, you need to pass the `--p-rev-comp-mapping-barcodes` parameter."
   ]
  },
  {
   "cell_type": "code",
   "execution_count": null,
   "id": "5680ef6b-e03e-4ac1-8eaf-56be3811214b",
   "metadata": {
    "tags": []
   },
   "outputs": [],
   "source": []
  },
  {
   "cell_type": "markdown",
   "id": "18899f1d-f445-4885-99ce-685781946a39",
   "metadata": {},
   "source": [
    "2.3 Generate the `demux.qzv`file and visualize it in [view.qiime.org](view.qiime.org)"
   ]
  },
  {
   "cell_type": "code",
   "execution_count": null,
   "id": "f662f785-0c50-44ae-bc12-856edb261720",
   "metadata": {
    "tags": []
   },
   "outputs": [],
   "source": []
  },
  {
   "cell_type": "markdown",
   "id": "e7e3e3ae-d31a-4ed3-9781-2787d8b6f0f8",
   "metadata": {},
   "source": [
    "2.4 How many samples contains more than 1,000 reads?"
   ]
  },
  {
   "cell_type": "markdown",
   "id": "48c37303-cf63-46f7-a402-d06a5779d579",
   "metadata": {},
   "source": []
  },
  {
   "cell_type": "markdown",
   "id": "ff0ab3e7-3b4a-4b65-a0fe-14f00cf97b47",
   "metadata": {},
   "source": [
    "2.5 What is the name of the smallest sample?"
   ]
  },
  {
   "cell_type": "markdown",
   "id": "dfd72e8b-0777-4c6f-a6e1-0d9ebc8d03cf",
   "metadata": {},
   "source": []
  },
  {
   "cell_type": "markdown",
   "id": "698210c0-f9dc-4716-bbda-8060d7c0aa84",
   "metadata": {},
   "source": [
    "2.6 And the biggest?"
   ]
  },
  {
   "cell_type": "markdown",
   "id": "f6bbc852-afd6-4c01-816a-0ebe5275fabf",
   "metadata": {},
   "source": []
  },
  {
   "cell_type": "markdown",
   "id": "b5e36f5f-12ea-4f37-a8c7-582506933076",
   "metadata": {},
   "source": [
    "Click the \"Interactive Quality Plot\" tab."
   ]
  },
  {
   "cell_type": "markdown",
   "id": "49ad604f-8f85-4767-8874-954e67320392",
   "metadata": {},
   "source": [
    "2.7 What is the median length of the forward reads?"
   ]
  },
  {
   "cell_type": "markdown",
   "id": "c2e314b6-ce0b-432b-b397-91dbf09adcbc",
   "metadata": {},
   "source": []
  },
  {
   "cell_type": "markdown",
   "id": "9c2d03e0-3c2f-4884-98d9-3fdd59efc411",
   "metadata": {},
   "source": [
    "2.8 And the mean quality of the forward reads? (Approximately)"
   ]
  },
  {
   "cell_type": "markdown",
   "id": "504d0bfb-23ea-4e2a-8199-ad4758a63198",
   "metadata": {},
   "source": []
  },
  {
   "cell_type": "markdown",
   "id": "7e3a2836-e282-47a4-ba66-9c36b2447545",
   "metadata": {},
   "source": [
    "2.9 What is the median length of the reverse reads?"
   ]
  },
  {
   "cell_type": "markdown",
   "id": "b54daed8-421e-4327-aea2-4bdf561f2b0c",
   "metadata": {},
   "source": []
  },
  {
   "cell_type": "markdown",
   "id": "2d7d6b91-875a-468c-996f-965fe78150e0",
   "metadata": {},
   "source": [
    "2.10 And the mean quality of the reverse reads? (Approximately)"
   ]
  },
  {
   "cell_type": "markdown",
   "id": "36f3d947-041a-4a10-8eba-34fbcef52f24",
   "metadata": {},
   "source": []
  },
  {
   "cell_type": "markdown",
   "id": "705aaad0-af7d-4a5b-93d4-6124247e141f",
   "metadata": {},
   "source": [
    "2.11 Do these reads need to be trimmed either at the 5' or 3' end in order to get a high quality experiment? High quality means a score above 30 (probability of error < 0.001),"
   ]
  },
  {
   "cell_type": "markdown",
   "id": "552e1d54-c27c-40be-b9e4-b95275132dbb",
   "metadata": {},
   "source": []
  },
  {
   "cell_type": "markdown",
   "id": "f12c2e34-cd81-4d7e-9414-fd38b56c70c5",
   "metadata": {},
   "source": [
    "2.12 Perform error correction with DADA2"
   ]
  },
  {
   "cell_type": "code",
   "execution_count": null,
   "id": "24bb3b1c-0d21-4801-96f2-36036474b155",
   "metadata": {
    "tags": []
   },
   "outputs": [],
   "source": []
  },
  {
   "cell_type": "markdown",
   "id": "650775bf-514f-41bb-87ce-fe842b04db4e",
   "metadata": {},
   "source": [
    "2.13 Convert the feature table (`table.qza`) to qzv and open it in the visualizer."
   ]
  },
  {
   "cell_type": "code",
   "execution_count": null,
   "id": "a77db664-d5fb-4426-a983-25f044727b97",
   "metadata": {
    "tags": []
   },
   "outputs": [],
   "source": []
  },
  {
   "cell_type": "markdown",
   "id": "f172a75e-4d0d-4c4a-8a5f-4d2babf60248",
   "metadata": {
    "tags": []
   },
   "source": [
    "2.14 How many ASVs have you found?"
   ]
  },
  {
   "cell_type": "markdown",
   "id": "c77241ea-5299-4438-92d8-6e7c90c859ec",
   "metadata": {},
   "source": []
  },
  {
   "cell_type": "markdown",
   "id": "56623498-4b10-4735-be75-fc4ea9c0638e",
   "metadata": {},
   "source": [
    "2.15 How many reads are in total after error correction?"
   ]
  },
  {
   "cell_type": "markdown",
   "id": "e181d333-821c-4f07-b90b-934de9ea00c8",
   "metadata": {},
   "source": []
  },
  {
   "cell_type": "markdown",
   "id": "f97efd18-5d65-425b-b37a-3102096613f0",
   "metadata": {},
   "source": [
    "2.16 How many reads has the biggest sample?"
   ]
  },
  {
   "cell_type": "markdown",
   "id": "a90fcadd-579c-4d01-9224-030c6bf63ee1",
   "metadata": {},
   "source": []
  },
  {
   "cell_type": "markdown",
   "id": "53058b92-e514-49fc-8210-2b06d3924a19",
   "metadata": {},
   "source": [
    "2.17 How many reads has the smallest sample?"
   ]
  },
  {
   "cell_type": "markdown",
   "id": "c3981133-c47c-4d37-a7c9-8f24e4d288f0",
   "metadata": {},
   "source": []
  },
  {
   "cell_type": "markdown",
   "id": "726e4ba9-9217-4811-bb7c-b8e6a3ee927a",
   "metadata": {},
   "source": [
    "2.18 How many samples have more than 1,000 reads?"
   ]
  },
  {
   "cell_type": "markdown",
   "id": "034b3075-68bf-4bfe-85aa-b6d5c35ffba8",
   "metadata": {},
   "source": []
  },
  {
   "cell_type": "markdown",
   "id": "5ccfb0c5-77e3-4907-883d-b724588ad9b2",
   "metadata": {},
   "source": [
    "2.19 How many ASVs have more than 1,000 reads?"
   ]
  },
  {
   "cell_type": "markdown",
   "id": "41b16781-0efb-45a2-ab0c-aaf8014533e5",
   "metadata": {},
   "source": []
  },
  {
   "cell_type": "markdown",
   "id": "af43270c-4b38-45e2-b019-64940b7ffed8",
   "metadata": {},
   "source": [
    "2.20 In how many samples is present the most frequent ASV? "
   ]
  },
  {
   "cell_type": "markdown",
   "id": "029b4534-8bd5-4797-af81-19b6096d39c7",
   "metadata": {},
   "source": []
  },
  {
   "cell_type": "markdown",
   "id": "62ac4145-c149-492e-8928-1ec6c8eb4a59",
   "metadata": {},
   "source": [
    "2.21 What name has this ASV?"
   ]
  },
  {
   "cell_type": "markdown",
   "id": "cb35e851-d476-4cd7-979e-e32f298f30c7",
   "metadata": {},
   "source": []
  },
  {
   "cell_type": "markdown",
   "id": "d3fee216-97ac-4961-aeba-26424702f228",
   "metadata": {},
   "source": [
    "2.22 Convert the `representative-sequences.qza` file to `qzv`."
   ]
  },
  {
   "cell_type": "code",
   "execution_count": null,
   "id": "cd8ec6eb-c771-46bb-a9f9-651d0031d32b",
   "metadata": {
    "tags": []
   },
   "outputs": [],
   "source": []
  },
  {
   "cell_type": "markdown",
   "id": "3c07785d-505b-472d-a56b-e773092dc3f3",
   "metadata": {},
   "source": [
    "2.23 How long is the longest ASV?"
   ]
  },
  {
   "cell_type": "markdown",
   "id": "4273b863-cc3d-4a1b-8963-ea05903ca170",
   "metadata": {},
   "source": []
  },
  {
   "cell_type": "markdown",
   "id": "81e15343-b84e-4e9e-9370-b649739f7ad4",
   "metadata": {},
   "source": [
    "2.24 And the shortest?"
   ]
  },
  {
   "cell_type": "markdown",
   "id": "a4058d88-fed2-4a3d-b482-850e6014f5ea",
   "metadata": {},
   "source": []
  },
  {
   "cell_type": "markdown",
   "id": "33a18e39-ef69-466d-8e2c-e2ca7fb8d880",
   "metadata": {},
   "source": [
    "2.25 How long is the most common ASV?"
   ]
  },
  {
   "cell_type": "markdown",
   "id": "3afb53a3-88d4-464e-bcbb-806e3ddef048",
   "metadata": {},
   "source": []
  },
  {
   "cell_type": "markdown",
   "id": "f26ec314-9791-493c-93c3-65b2672dd059",
   "metadata": {
    "tags": []
   },
   "source": [
    "2.26 Copy the sequence of the most common ASV and go to [BLAST](https://blast.ncbi.nlm.nih.gov/Blast.cgi?PAGE_TYPE=BlastSearch&USER_FORMAT_DEFAULTS=on&SET_SAVED_SEARCH=true&PAGE=MegaBlast&PROGRAM=blastn&GAPCOSTS=0%200&MATCH_SCORES=1,-2&DATABASE=rRNA_typestrains/16S_ribosomal_RNA&BLAST_PROGRAMS=megaBlast&MAX_NUM_SEQ=100&SHORT_QUERY_ADJUST=on&EXPECT=0.05&WORD_SIZE=28&REPEATS=repeat_9606&TEMPLATE_TYPE=0&TEMPLATE_LENGTH=0&FILTER=L&FILTER=m&EQ_MENU=Enter%20organism%20name%20or%20id--completions%20will%20be%20suggested&PROG_DEFAULTS=on&SHOW_OVERVIEW=on&SHOW_LINKOUT=on&ALIGNMENT_VIEW=Pairwise&MASK_CHAR=2&MASK_COLOR=1&GET_SEQUENCE=on&NUM_OVERVIEW=100&DESCRIPTIONS=100&ALIGNMENTS=100&FORMAT_OBJECT=Alignment&FORMAT_TYPE=HTML). Paste the sequence in the search box and click in the blue BLAST button at the bottom. Paste below the first result."
   ]
  },
  {
   "cell_type": "markdown",
   "id": "aa4430ac-3555-44ef-94f9-07c71176ecbd",
   "metadata": {},
   "source": []
  },
  {
   "cell_type": "markdown",
   "id": "c1488733-8488-4960-b6b5-9dfb21339310",
   "metadata": {},
   "source": [
    "2.27 Convert from qza to qzv the `dada2-stats` file."
   ]
  },
  {
   "cell_type": "code",
   "execution_count": null,
   "id": "4873e001-2cf6-4f74-a821-ba9bfa45d1b5",
   "metadata": {},
   "outputs": [],
   "source": []
  },
  {
   "cell_type": "markdown",
   "id": "63e7c74f-11a0-4792-9f37-eeb0869070fb",
   "metadata": {},
   "source": [
    "2.28 Which sample has been filtered the most in terms of percentages? Type the sample name and the percentage."
   ]
  },
  {
   "cell_type": "markdown",
   "id": "9eef779b-e314-4530-bc10-022d4b4329f9",
   "metadata": {},
   "source": []
  },
  {
   "cell_type": "markdown",
   "id": "26e836a2-5018-4485-bbe1-6df53d12eea8",
   "metadata": {},
   "source": [
    "2.29 And the least?"
   ]
  },
  {
   "cell_type": "markdown",
   "id": "89fe634f-7b98-4cf7-b4e5-02a77ee5d818",
   "metadata": {},
   "source": []
  },
  {
   "cell_type": "markdown",
   "id": "b5bc2b7b-82ad-4e0e-9a69-5d31a719e8a7",
   "metadata": {},
   "source": [
    "It should be a great idea to save your notebook to your laptop, press the Fast Forward button to see that all files generate properly, `pause` the notebook, and take 5 minutes away from the screen."
   ]
  },
  {
   "cell_type": "code",
   "execution_count": null,
   "id": "2d45e117-8e35-4c88-bd81-6cbfe3bef264",
   "metadata": {},
   "outputs": [],
   "source": [
    "pause"
   ]
  },
  {
   "cell_type": "markdown",
   "id": "b60484f5-424e-43b6-a770-1bd769de0f5a",
   "metadata": {},
   "source": [
    "## 3. Taxonomy"
   ]
  },
  {
   "cell_type": "markdown",
   "id": "85540b16-d5fa-4f20-9914-0cd4415e72d1",
   "metadata": {},
   "source": [
    "In the folder databases you have two trained sequence classifiers:\n",
    "- greengenes, which contains 16S sequences \n",
    "- metazoogene, which contain 18S sequences"
   ]
  },
  {
   "cell_type": "code",
   "execution_count": null,
   "id": "73fd46c9-f61f-4761-a6c1-fd451385db7e",
   "metadata": {
    "tags": []
   },
   "outputs": [],
   "source": [
    "ll databases/"
   ]
  },
  {
   "cell_type": "markdown",
   "id": "7a16bd85-897a-4ece-966e-d99581dddf97",
   "metadata": {},
   "source": [
    "3.1 Which one is appropriate to analyze the eukaryotes present in the guts of these fish?"
   ]
  },
  {
   "cell_type": "markdown",
   "id": "9896607c-7350-4640-9745-a23e30ebf942",
   "metadata": {},
   "source": []
  },
  {
   "cell_type": "markdown",
   "id": "6cb5b109-30fb-4520-b219-a4ce80c8e1fa",
   "metadata": {},
   "source": [
    "3.2 Classify your sequences with that database."
   ]
  },
  {
   "cell_type": "code",
   "execution_count": null,
   "id": "b14722fc-3ea0-4a17-80c5-6451608c63fa",
   "metadata": {
    "tags": []
   },
   "outputs": [],
   "source": []
  },
  {
   "cell_type": "markdown",
   "id": "c9301078-2f8a-4fec-94b1-ef02b3ea15b9",
   "metadata": {},
   "source": [
    "3.3 Convert the results into a visualization"
   ]
  },
  {
   "cell_type": "code",
   "execution_count": null,
   "id": "eeb369e3-c6ec-4d74-b89c-0d327ab70899",
   "metadata": {
    "tags": []
   },
   "outputs": [],
   "source": []
  },
  {
   "cell_type": "markdown",
   "id": "f29ccd18-3ad3-48cf-9101-3fe0dafd50c1",
   "metadata": {},
   "source": [
    "3.4 How many ASVs have been classified as Animalia and no phylum?"
   ]
  },
  {
   "cell_type": "markdown",
   "id": "fa98fd30-b3dc-4093-b7a7-4772ceadbf0e",
   "metadata": {},
   "source": []
  },
  {
   "cell_type": "markdown",
   "id": "9aa77994-e3d4-4e57-b848-05ad1e53e088",
   "metadata": {},
   "source": [
    "3.5 How many belong to the class Copepoda?"
   ]
  },
  {
   "cell_type": "markdown",
   "id": "fb0e16a8-fd98-41e4-a301-4dc5edcd7c4e",
   "metadata": {},
   "source": []
  },
  {
   "cell_type": "markdown",
   "id": "bef456cf-c420-48d9-8a60-ee5d82e5572e",
   "metadata": {},
   "source": [
    "3.6 Draw the taxonomic barplot."
   ]
  },
  {
   "cell_type": "code",
   "execution_count": null,
   "id": "80f4d7e6-0d16-44c2-8edc-d122f6a15912",
   "metadata": {
    "tags": []
   },
   "outputs": [],
   "source": []
  },
  {
   "cell_type": "markdown",
   "id": "4ccd21ce-ce03-4c0c-908c-6cfb973a1424",
   "metadata": {},
   "source": [
    "3.7 What sample contains the most of the _Engraulis encrasicolus_ species?"
   ]
  },
  {
   "cell_type": "markdown",
   "id": "1db33663-0e61-4058-be36-e2d6f644ef45",
   "metadata": {},
   "source": []
  },
  {
   "cell_type": "markdown",
   "id": "401f1683-be08-4d2c-9225-601a5e61f4d4",
   "metadata": {},
   "source": [
    "3.8 What is the most common phylum (in average)?"
   ]
  },
  {
   "cell_type": "markdown",
   "id": "d8d7f62f-1422-4d36-8c8e-6e007d8c99fa",
   "metadata": {},
   "source": []
  },
  {
   "cell_type": "markdown",
   "id": "0395eb9c-0e58-4604-a619-8dc5055134e3",
   "metadata": {},
   "source": [
    "## 4. Diversity"
   ]
  },
  {
   "cell_type": "markdown",
   "id": "5a7506c5-44d9-4019-9199-e64442d12341",
   "metadata": {},
   "source": [
    "4.1 Create first the phylogeny, and then compute the core metrics. Filter out samples with less than 1,000 reads."
   ]
  },
  {
   "cell_type": "code",
   "execution_count": null,
   "id": "ed641867-e419-4ab3-9d3c-2c1896dd3b57",
   "metadata": {
    "tags": []
   },
   "outputs": [],
   "source": []
  },
  {
   "cell_type": "code",
   "execution_count": null,
   "id": "00f28f95-4d1f-4404-bf3e-057ad85aee22",
   "metadata": {
    "tags": []
   },
   "outputs": [],
   "source": []
  },
  {
   "cell_type": "markdown",
   "id": "dbcd1546-4447-435b-9f8a-2abfd0337355",
   "metadata": {},
   "source": [
    "4.2 Compute the alpha-rarefaction, using a maximum depth of 2000 sequences."
   ]
  },
  {
   "cell_type": "code",
   "execution_count": null,
   "id": "a55c3433-c829-4a15-9481-0f90ee61538b",
   "metadata": {
    "tags": []
   },
   "outputs": [],
   "source": []
  },
  {
   "cell_type": "markdown",
   "id": "c9253ffa-802c-4eec-b2d8-f3a2e6d79b6a",
   "metadata": {},
   "source": [
    "4.3 According to the Shannon index, do we have almost the same community information at a sequencing depth of 1,000 and 2,000?"
   ]
  },
  {
   "cell_type": "markdown",
   "id": "261f0e00-0f15-411b-8b0a-b12032ef3208",
   "metadata": {},
   "source": []
  },
  {
   "cell_type": "markdown",
   "id": "77e020f4-bc26-428e-be4d-f207792b71f3",
   "metadata": {},
   "source": [
    "4.4 Which barcode has the least Shannon diversity?"
   ]
  },
  {
   "cell_type": "markdown",
   "id": "84a8ea86-4018-4079-8385-e689c0867f03",
   "metadata": {},
   "source": []
  },
  {
   "cell_type": "markdown",
   "id": "a00d2f86-adae-4c78-98e2-b6d98f1bcbdf",
   "metadata": {},
   "source": [
    "4.5 Compute the evenness of the samples."
   ]
  },
  {
   "cell_type": "code",
   "execution_count": null,
   "id": "e67c9554-b2d4-4f5f-9922-0a217cdb121f",
   "metadata": {
    "tags": []
   },
   "outputs": [],
   "source": []
  },
  {
   "cell_type": "markdown",
   "id": "96c6527c-90b8-4408-b598-66426b47ba33",
   "metadata": {},
   "source": [
    "4.6 Do the same for the richness."
   ]
  },
  {
   "cell_type": "code",
   "execution_count": null,
   "id": "9a178c20-39cd-4f16-8d74-9aefcaf8581c",
   "metadata": {
    "tags": []
   },
   "outputs": [],
   "source": []
  },
  {
   "cell_type": "markdown",
   "id": "84a49915-2eb2-4bf0-b3bc-20e2faae9d22",
   "metadata": {},
   "source": [
    "4.7 Is the richness different between your types of fish? What is your p-value?"
   ]
  },
  {
   "cell_type": "markdown",
   "id": "82546803-79f1-43df-93f2-1782a1384fd1",
   "metadata": {},
   "source": []
  },
  {
   "cell_type": "markdown",
   "id": "181daaaa-cb65-406b-b041-a447a7c6a0e9",
   "metadata": {},
   "source": [
    "4.8 Is the evenness different between fish type? What is your p-value?"
   ]
  },
  {
   "cell_type": "markdown",
   "id": "82af6084-a850-464f-9367-f04a01f7de17",
   "metadata": {},
   "source": []
  },
  {
   "cell_type": "markdown",
   "id": "91619e50-ed56-4ac1-8d73-82fa06a2127a",
   "metadata": {},
   "source": [
    "4.9 Compute the beta diversity using the Weighted Unifrac distance matrix, grouping by fish type."
   ]
  },
  {
   "cell_type": "code",
   "execution_count": null,
   "id": "2449ee10-8bf5-47b4-ad34-b5fb15f40dab",
   "metadata": {
    "tags": []
   },
   "outputs": [],
   "source": []
  },
  {
   "cell_type": "markdown",
   "id": "d3774cb8-2db6-4216-be1b-9b0c5e37b470",
   "metadata": {},
   "source": [
    "4.10 According to the pairwise Permanova test, are there differences between fish types?"
   ]
  },
  {
   "cell_type": "markdown",
   "id": "d4a29637-5256-45ef-bbcd-fbd62b73ba87",
   "metadata": {},
   "source": []
  },
  {
   "cell_type": "markdown",
   "id": "b845380b-f34b-474e-b39e-cb4a5fc5236b",
   "metadata": {},
   "source": [
    "`pause` and take 5 minutes if you need it."
   ]
  },
  {
   "cell_type": "code",
   "execution_count": null,
   "id": "76b44b7b-c662-440f-9f55-4b4383f35a3b",
   "metadata": {},
   "outputs": [],
   "source": [
    "pause"
   ]
  },
  {
   "cell_type": "markdown",
   "id": "b18a2d7c-b6e7-47d4-9d0b-a3fec050ff9d",
   "metadata": {},
   "source": [
    "## 5 Analysis of Composition with ANCOM"
   ]
  },
  {
   "cell_type": "markdown",
   "id": "7adcbc98-9ae1-4e0f-93f3-d1af4772bb85",
   "metadata": {},
   "source": [
    "5.1 Do the analysis of composition at the ASV level, and compare the differences of composition between **sample_type** parts. You have to perform the `add-pseudocount` step first."
   ]
  },
  {
   "cell_type": "code",
   "execution_count": null,
   "id": "024faa1e-8ba6-4d94-8b0e-8c6a95faefc8",
   "metadata": {
    "tags": []
   },
   "outputs": [],
   "source": []
  },
  {
   "cell_type": "code",
   "execution_count": null,
   "id": "7d368344-1398-4581-b40c-aa94cbbdae59",
   "metadata": {
    "tags": []
   },
   "outputs": [],
   "source": []
  },
  {
   "cell_type": "markdown",
   "id": "17fb6d31-7e54-4081-92d3-c4b5e991abb5",
   "metadata": {},
   "source": [
    "5.2 How many ASVs are statistically different? "
   ]
  },
  {
   "cell_type": "markdown",
   "id": "6589416a-672e-41f0-b95a-8f0654e9be6b",
   "metadata": {},
   "source": []
  },
  {
   "cell_type": "markdown",
   "id": "12b00319-3504-42d0-8816-0bb5ef82fd15",
   "metadata": {},
   "source": [
    "5.3 How many have a positive CLR (centered log ratio)?"
   ]
  },
  {
   "cell_type": "markdown",
   "id": "84b8921c-684d-46b6-b4b3-ec46679c5578",
   "metadata": {},
   "source": []
  },
  {
   "cell_type": "markdown",
   "id": "878c9d92-ce2d-449a-8305-c8ab1307ecf1",
   "metadata": {},
   "source": [
    "5.4 How many are negative?"
   ]
  },
  {
   "cell_type": "markdown",
   "id": "21ce8f8e-43c0-43ec-835b-d369a658b537",
   "metadata": {},
   "source": []
  },
  {
   "cell_type": "markdown",
   "id": "d3a5db98-d69f-4ec6-b263-116765b7f8c6",
   "metadata": {},
   "source": [
    "5.5 Colapse the ASV table so we can compute the results at the family level"
   ]
  },
  {
   "cell_type": "code",
   "execution_count": null,
   "id": "1c5a1034-a6e5-4d45-800e-5869d0869524",
   "metadata": {
    "tags": []
   },
   "outputs": [],
   "source": []
  },
  {
   "cell_type": "markdown",
   "id": "dcae29fd-12f4-45ec-b742-29e0432a5fb1",
   "metadata": {},
   "source": [
    "5.6  Compute the pseudocounts for that table, and run the ANCOM analysis again between seasons."
   ]
  },
  {
   "cell_type": "code",
   "execution_count": null,
   "id": "819e6b88-faa9-49ae-9aae-ff90afab2cca",
   "metadata": {
    "tags": []
   },
   "outputs": [],
   "source": []
  },
  {
   "cell_type": "code",
   "execution_count": null,
   "id": "61518013-7cf5-4764-b52a-52510d94d42c",
   "metadata": {
    "tags": []
   },
   "outputs": [],
   "source": []
  },
  {
   "cell_type": "markdown",
   "id": "73798f3a-962a-49bb-aca9-5b411b90f5f0",
   "metadata": {},
   "source": [
    "5.7  How many elements are statistically different now?"
   ]
  },
  {
   "cell_type": "markdown",
   "id": "92ac0927-ba7e-4b4f-b6c3-0afa66d749b6",
   "metadata": {},
   "source": []
  },
  {
   "cell_type": "markdown",
   "id": "62484b62-aae7-4733-8bd1-34ef80b68713",
   "metadata": {
    "tags": []
   },
   "source": [
    "## End of the notebook"
   ]
  },
  {
   "cell_type": "markdown",
   "id": "a68435ea-682f-4869-8ab4-523a883bdca6",
   "metadata": {},
   "source": [
    "Make sure that\n",
    "- all the text cells contain only text\n",
    "- all the code cells contain only code\n",
    "- That the entire notebook runs from the beginning to the end without errors by pressing the Fast Forward button."
   ]
  }
 ],
 "metadata": {
  "kernelspec": {
   "display_name": "Bash",
   "language": "bash",
   "name": "bash"
  },
  "language_info": {
   "codemirror_mode": "shell",
   "file_extension": ".sh",
   "mimetype": "text/x-sh",
   "name": "bash"
  }
 },
 "nbformat": 4,
 "nbformat_minor": 5
}
